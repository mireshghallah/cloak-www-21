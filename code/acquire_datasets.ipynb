{
 "cells": [
  {
   "cell_type": "markdown",
   "metadata": {},
   "source": [
    "# MNIST and CIFAR-100"
   ]
  },
  {
   "cell_type": "markdown",
   "metadata": {},
   "source": [
    "These two datasets will automatically download with the provided code. No need to download and prepare them separately. "
   ]
  },
  {
   "cell_type": "markdown",
   "metadata": {},
   "source": [
    "# CelebA\n",
    "\n",
    "# Step 1\n",
    "\n",
    "Run downlad.sh: bash download.sh celeba (it is from https://github.com/yunjey/stargan.git), we use this repository's download script. This project is not at all related to us, nor do we use any of their code. \n",
    "\n",
    "# Step 2\n",
    "\n",
    "now, download the ids. it is at (https://drive.google.com/drive/folders/0B7EVK8r0v71pWEZsZE9oNnFzTm8) it is also in these files (identities).\n",
    "\n"
   ]
  },
  {
   "cell_type": "markdown",
   "metadata": {},
   "source": [
    "# UTK Face"
   ]
  },
  {
   "cell_type": "markdown",
   "metadata": {},
   "source": [
    "Download the Aligned&Cropped Faces from https://susanqq.github.io/UTKFace/. When you click on their link, there are two files in the drive, we need the one named UTKFace.tar.gz. The direct link is: https://drive.google.com/open?id=0BxYys69jI14kYVM3aVhKS1VhRUk."
   ]
  }
 ],
 "metadata": {
  "kernelspec": {
   "display_name": "Python 3",
   "language": "python",
   "name": "python3"
  },
  "language_info": {
   "codemirror_mode": {
    "name": "ipython",
    "version": 3
   },
   "file_extension": ".py",
   "mimetype": "text/x-python",
   "name": "python",
   "nbconvert_exporter": "python",
   "pygments_lexer": "ipython3",
   "version": "3.5.2"
  }
 },
 "nbformat": 4,
 "nbformat_minor": 2
}
